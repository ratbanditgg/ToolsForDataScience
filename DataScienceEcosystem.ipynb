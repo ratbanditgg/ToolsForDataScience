{
 "cells": [
  {
   "cell_type": "markdown",
   "id": "9df03d87-5040-4174-bf43-ef0d2ea205e0",
   "metadata": {},
   "source": [
    "## Data Science Tools and Ecosystem are summarized"
   ]
  },
  {
   "cell_type": "markdown",
   "id": "12b96079-56cd-497b-bef5-894e95b13fc1",
   "metadata": {},
   "source": [
    "In this notebook, Data Science Tools and Ecosystem are summarized."
   ]
  },
  {
   "cell_type": "markdown",
   "id": "5191e2ac-9fa5-42f1-b452-3917dc9fb983",
   "metadata": {},
   "source": [
    "Some of the popular languages that Data Scientists use are:\n",
    "1) Python\n",
    "2) R \n",
    "3) C++"
   ]
  },
  {
   "cell_type": "markdown",
   "id": "fb68ce32-adc7-4f58-a13c-805bcfcd9739",
   "metadata": {},
   "source": [
    "Some of the commonly used libraries used by Data Scientists include:\n",
    "1. Panda\n",
    "2. Numpy\n",
    "3. Tensorflow"
   ]
  },
  {
   "cell_type": "markdown",
   "id": "7df2dd36-403c-4bd1-a7e0-7f69e80fd8ab",
   "metadata": {},
   "source": [
    "Data Science Tools\n",
    "1. Jupyter Notebook\n",
    "2. Jupyter Labs\n",
    "3. R Studio"
   ]
  },
  {
   "cell_type": "markdown",
   "id": "3ebfb94b-42eb-41a8-b0f1-b2e4abb2c93e",
   "metadata": {},
   "source": [
    "### Below are a few examples of evaluating arithmetic expressions in Python"
   ]
  },
  {
   "cell_type": "code",
   "execution_count": 3,
   "id": "c0541c25-a0ff-4376-9c17-973409a7e66e",
   "metadata": {},
   "outputs": [
    {
     "data": {
      "text/plain": [
       "9"
      ]
     },
     "execution_count": 3,
     "metadata": {},
     "output_type": "execute_result"
    }
   ],
   "source": [
    "4+5 "
   ]
  },
  {
   "cell_type": "code",
   "execution_count": 4,
   "id": "b3bbb8d8-5d84-41ec-92b1-9fbf347f1cd4",
   "metadata": {},
   "outputs": [
    {
     "data": {
      "text/plain": [
       "17"
      ]
     },
     "execution_count": 4,
     "metadata": {},
     "output_type": "execute_result"
    }
   ],
   "source": [
    "# This a simple arithmetic expression to mutiply then add integers\n",
    "(3*4)+5"
   ]
  },
  {
   "cell_type": "code",
   "execution_count": 5,
   "id": "bdbfccee-d070-46f8-8bb5-0a82087cfbf4",
   "metadata": {},
   "outputs": [
    {
     "data": {
      "text/plain": [
       "3.3333333333333335"
      ]
     },
     "execution_count": 5,
     "metadata": {},
     "output_type": "execute_result"
    }
   ],
   "source": [
    "# This will convert 200 minutes to hours by diving by 60\n",
    "200/60"
   ]
  },
  {
   "cell_type": "markdown",
   "id": "48597a91-ccaa-4404-b7c7-5619b68fd5e0",
   "metadata": {},
   "source": [
    "**Objectives:**"
   ]
  },
  {
   "cell_type": "markdown",
   "id": "0a249c66-f38b-4502-9b6b-bca814108f50",
   "metadata": {},
   "source": [
    "1. Some of the popular languages that Data Scientists use are\n",
    "2. Some of the commonly used libraries used by Data Scientists \n",
    "3. Data Science Tools"
   ]
  },
  {
   "cell_type": "markdown",
   "id": "cc7f76c6-b04f-470a-a335-e9f5110e422e",
   "metadata": {},
   "source": [
    "## Author\n",
    "Niral Patel"
   ]
  },
  {
   "cell_type": "code",
   "execution_count": null,
   "id": "e50e396b-b380-45fc-88cf-1042c7aa8edd",
   "metadata": {},
   "outputs": [],
   "source": []
  }
 ],
 "metadata": {
  "kernelspec": {
   "display_name": "Python 3 (ipykernel)",
   "language": "python",
   "name": "python3"
  },
  "language_info": {
   "codemirror_mode": {
    "name": "ipython",
    "version": 3
   },
   "file_extension": ".py",
   "mimetype": "text/x-python",
   "name": "python",
   "nbconvert_exporter": "python",
   "pygments_lexer": "ipython3",
   "version": "3.9.12"
  }
 },
 "nbformat": 4,
 "nbformat_minor": 5
}
